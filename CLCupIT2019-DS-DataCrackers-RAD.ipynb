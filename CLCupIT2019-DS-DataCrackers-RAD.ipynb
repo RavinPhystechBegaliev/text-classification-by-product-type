{
 "cells": [
  {
   "cell_type": "code",
   "execution_count": 1,
   "metadata": {},
   "outputs": [],
   "source": [
    "import numpy as np\n",
    "import pandas as pd\n",
    "%matplotlib inline\n",
    "from sklearn.model_selection import cross_val_score\n",
    "from sklearn.model_selection import StratifiedKFold, KFold\n",
    "from sklearn.feature_extraction.text import TfidfVectorizer\n",
    "from sklearn.linear_model import LogisticRegression\n",
    "from sklearn.model_selection import GridSearchCV\n",
    "\n",
    "from nltk.corpus import stopwords\n",
    "\n",
    "from wordcloud import WordCloud\n",
    "import matplotlib.pyplot as plt"
   ]
  },
  {
   "cell_type": "code",
   "execution_count": 2,
   "metadata": {},
   "outputs": [],
   "source": [
    "train = pd.read_csv('train_data.csv', encoding='utf', engine='python', index_col=0)\n",
    "test = pd.read_csv('test_data.csv', encoding='utf', engine='python', index_col=0)"
   ]
  },
  {
   "cell_type": "code",
   "execution_count": 3,
   "metadata": {},
   "outputs": [
    {
     "data": {
      "text/plain": [
       "Кредит                         0.381816\n",
       "Вклад                          0.144137\n",
       "Ипотека                        0.114523\n",
       "Бизнес услуги                  0.100754\n",
       "Обслуживание физ. и юр. лиц    0.090700\n",
       "Дебетовая карта                0.078024\n",
       "Реструктуризация               0.058791\n",
       "Денежные переводы              0.022730\n",
       "Инвестиционные продукты        0.008524\n",
       "Name: type, dtype: float64"
      ]
     },
     "metadata": {},
     "output_type": "display_data"
    },
    {
     "data": {
      "text/plain": [
       "<matplotlib.axes._subplots.AxesSubplot at 0x1d09dabdd30>"
      ]
     },
     "execution_count": 3,
     "metadata": {},
     "output_type": "execute_result"
    },
    {
     "data": {
      "image/png": "[encoded data removed]",
      "text/plain": [
       "<Figure size 432x288 with 1 Axes>"
      ]
     },
     "metadata": {
      "needs_background": "light"
     },
     "output_type": "display_data"
    }
   ],
   "source": [
    "display(train.type.value_counts()/train.type.shape)\n",
    "train.type.value_counts().plot.bar()"
   ]
  },
  {
   "cell_type": "code",
   "execution_count": 4,
   "metadata": {},
   "outputs": [],
   "source": [
    "import pymorphy2\n",
    "morph = pymorphy2.MorphAnalyzer()"
   ]
  },
  {
   "cell_type": "code",
   "execution_count": 5,
   "metadata": {},
   "outputs": [],
   "source": [
    "\n",
    "def text_cleaner(text):\n",
    "    # к нижнему регистру\n",
    "    text = text.lower()\n",
    "    \n",
    "    # оставляем в предложении только русские буквы (таким образом\n",
    "    # удалим и ссылки, и имена пользователей, и пунктуацию и т.д.)\n",
    "    alph = 'абвгдеёжзийклмнопрстуфхцчшщъыьэюя'\n",
    "    \n",
    "    cleaned_text = ''\n",
    "    for char in text:\n",
    "        if (char.isalpha() and char[0] in alph) or (char == ' '):\n",
    "            cleaned_text += char\n",
    "        \n",
    "    result = []\n",
    "    for word in cleaned_text.split():\n",
    "        # лемматизируем\n",
    "        result.append(morph.parse(word)[0].normal_form)\n",
    "                              \n",
    "    return ' '.join(result)"
   ]
  },
  {
   "cell_type": "code",
   "execution_count": 6,
   "metadata": {},
   "outputs": [
    {
     "data": {
      "text/html": [
       "<div>\n",
       "<style scoped>\n",
       "    .dataframe tbody tr th:only-of-type {\n",
       "        vertical-align: middle;\n",
       "    }\n",
       "\n",
       "    .dataframe tbody tr th {\n",
       "        vertical-align: top;\n",
       "    }\n",
       "\n",
       "    .dataframe thead th {\n",
       "        text-align: right;\n",
       "    }\n",
       "</style>\n",
       "<table border=\"1\" class=\"dataframe\">\n",
       "  <thead>\n",
       "    <tr style=\"text-align: right;\">\n",
       "      <th></th>\n",
       "      <th>type</th>\n",
       "      <th>title</th>\n",
       "      <th>text</th>\n",
       "    </tr>\n",
       "  </thead>\n",
       "  <tbody>\n",
       "    <tr>\n",
       "      <th>0</th>\n",
       "      <td>Кредит</td>\n",
       "      <td>Просьба об отмене штрафа КАСКО</td>\n",
       "      <td>Просьба об отмене штрафа КАСКО . Здравствуйте!...</td>\n",
       "    </tr>\n",
       "    <tr>\n",
       "      <th>1</th>\n",
       "      <td>Ипотека</td>\n",
       "      <td>В целом хорошо, работали по ипотеке.</td>\n",
       "      <td>В целом хорошо, работали по ипотеке. . Брала  ...</td>\n",
       "    </tr>\n",
       "    <tr>\n",
       "      <th>2</th>\n",
       "      <td>Реструктуризация</td>\n",
       "      <td>Нас всегда выручает банк Уралсиб!</td>\n",
       "      <td>Нас всегда выручает банк Уралсиб! . Знакомство...</td>\n",
       "    </tr>\n",
       "    <tr>\n",
       "      <th>3</th>\n",
       "      <td>Вклад</td>\n",
       "      <td>Абсолютно неприемлемая ситуация и ее решение</td>\n",
       "      <td>Абсолютно неприемлемая ситуация и ее решение ....</td>\n",
       "    </tr>\n",
       "    <tr>\n",
       "      <th>4</th>\n",
       "      <td>Кредит</td>\n",
       "      <td>Внёс не туда</td>\n",
       "      <td>Внёс не туда . Пришёл оплачивать кредит и ошиб...</td>\n",
       "    </tr>\n",
       "  </tbody>\n",
       "</table>\n",
       "</div>"
      ],
      "text/plain": [
       "               type                                         title  \\\n",
       "0            Кредит                Просьба об отмене штрафа КАСКО   \n",
       "1           Ипотека          В целом хорошо, работали по ипотеке.   \n",
       "2  Реструктуризация             Нас всегда выручает банк Уралсиб!   \n",
       "3             Вклад  Абсолютно неприемлемая ситуация и ее решение   \n",
       "4            Кредит                                  Внёс не туда   \n",
       "\n",
       "                                                text  \n",
       "0  Просьба об отмене штрафа КАСКО . Здравствуйте!...  \n",
       "1  В целом хорошо, работали по ипотеке. . Брала  ...  \n",
       "2  Нас всегда выручает банк Уралсиб! . Знакомство...  \n",
       "3  Абсолютно неприемлемая ситуация и ее решение ....  \n",
       "4  Внёс не туда . Пришёл оплачивать кредит и ошиб...  "
      ]
     },
     "execution_count": 6,
     "metadata": {},
     "output_type": "execute_result"
    }
   ],
   "source": [
    "train_title_text = train\n",
    "train_title_text['text'] = train['title'] + ' . ' + train['text']\n",
    "train_title_text.head()"
   ]
  },
  {
   "cell_type": "code",
   "execution_count": 7,
   "metadata": {},
   "outputs": [],
   "source": [
    "train['text'] = train['text'].apply(text_cleaner)\n",
    "train.to_csv('cleaned_train_title_data.csv')\n",
    "test['text'] = test['text'].apply(text_cleaner)\n",
    "test.to_csv('cleaned_test_title_data.csv')"
   ]
  },
  {
   "cell_type": "code",
   "execution_count": 8,
   "metadata": {},
   "outputs": [
    {
     "data": {
      "text/html": [
       "<div>\n",
       "<style scoped>\n",
       "    .dataframe tbody tr th:only-of-type {\n",
       "        vertical-align: middle;\n",
       "    }\n",
       "\n",
       "    .dataframe tbody tr th {\n",
       "        vertical-align: top;\n",
       "    }\n",
       "\n",
       "    .dataframe thead th {\n",
       "        text-align: right;\n",
       "    }\n",
       "</style>\n",
       "<table border=\"1\" class=\"dataframe\">\n",
       "  <thead>\n",
       "    <tr style=\"text-align: right;\">\n",
       "      <th></th>\n",
       "      <th>title</th>\n",
       "      <th>text</th>\n",
       "    </tr>\n",
       "  </thead>\n",
       "  <tbody>\n",
       "    <tr>\n",
       "      <th>0</th>\n",
       "      <td>Благодарность менеджеру по продажам</td>\n",
       "      <td>Благодарность менеджеру по продажам . хотеться...</td>\n",
       "    </tr>\n",
       "    <tr>\n",
       "      <th>1</th>\n",
       "      <td>Брал рассрочку в магазине Самсунг</td>\n",
       "      <td>Брал рассрочку в магазине Самсунг . здравствуй...</td>\n",
       "    </tr>\n",
       "    <tr>\n",
       "      <th>2</th>\n",
       "      <td>Тинькофф оказался лучшим</td>\n",
       "      <td>Тинькофф оказался лучшим . работать с они уже ...</td>\n",
       "    </tr>\n",
       "    <tr>\n",
       "      <th>3</th>\n",
       "      <td>Недавно открыла расчетный счет в Тинькофф Банке</td>\n",
       "      <td>Недавно открыла расчетный счет в Тинькофф Банк...</td>\n",
       "    </tr>\n",
       "    <tr>\n",
       "      <th>4</th>\n",
       "      <td>Волею судеб у меня появилась кредитная карта С...</td>\n",
       "      <td>Волею судеб у меня появилась кредитная карта С...</td>\n",
       "    </tr>\n",
       "  </tbody>\n",
       "</table>\n",
       "</div>"
      ],
      "text/plain": [
       "                                               title  \\\n",
       "0                Благодарность менеджеру по продажам   \n",
       "1                  Брал рассрочку в магазине Самсунг   \n",
       "2                           Тинькофф оказался лучшим   \n",
       "3    Недавно открыла расчетный счет в Тинькофф Банке   \n",
       "4  Волею судеб у меня появилась кредитная карта С...   \n",
       "\n",
       "                                                text  \n",
       "0  Благодарность менеджеру по продажам . хотеться...  \n",
       "1  Брал рассрочку в магазине Самсунг . здравствуй...  \n",
       "2  Тинькофф оказался лучшим . работать с они уже ...  \n",
       "3  Недавно открыла расчетный счет в Тинькофф Банк...  \n",
       "4  Волею судеб у меня появилась кредитная карта С...  "
      ]
     },
     "execution_count": 8,
     "metadata": {},
     "output_type": "execute_result"
    }
   ],
   "source": [
    "test_title_text = test\n",
    "test_title_text['text'] = test['title'] + ' . ' + test['text']\n",
    "test_title_text.head()"
   ]
  },
  {
   "cell_type": "code",
   "execution_count": 9,
   "metadata": {},
   "outputs": [],
   "source": [
    "train_title_text = pd.read_csv('cleaned_train_title_data.csv', index_col=0).dropna()\n",
    "test_title_text = pd.read_csv('cleaned_test_title_data.csv', index_col=0)"
   ]
  },
  {
   "cell_type": "code",
   "execution_count": 36,
   "metadata": {},
   "outputs": [
    {
     "name": "stdout",
     "output_type": "stream",
     "text": [
      "a []\n"
     ]
    }
   ],
   "source": [
    "t = pd.DataFrame(test_title_text['title'].isnull())\n",
    "a = t[t['title'] == True]\n",
    "list_eng = a.index.tolist()\n",
    "for i in list_eng:\n",
    "    test_title_text['title'][i] ='a' "
   ]
  },
  {
   "cell_type": "code",
   "execution_count": 31,
   "metadata": {},
   "outputs": [
    {
     "data": {
      "text/html": [
       "<div>\n",
       "<style scoped>\n",
       "    .dataframe tbody tr th:only-of-type {\n",
       "        vertical-align: middle;\n",
       "    }\n",
       "\n",
       "    .dataframe tbody tr th {\n",
       "        vertical-align: top;\n",
       "    }\n",
       "\n",
       "    .dataframe thead th {\n",
       "        text-align: right;\n",
       "    }\n",
       "</style>\n",
       "<table border=\"1\" class=\"dataframe\">\n",
       "  <thead>\n",
       "    <tr style=\"text-align: right;\">\n",
       "      <th></th>\n",
       "      <th>type</th>\n",
       "      <th>title</th>\n",
       "      <th>text</th>\n",
       "    </tr>\n",
       "  </thead>\n",
       "  <tbody>\n",
       "    <tr>\n",
       "      <th>0</th>\n",
       "      <td>Кредит</td>\n",
       "      <td>Просьба об отмене штрафа КАСКО</td>\n",
       "      <td>просьба о отмена штраф каско здравствовать год...</td>\n",
       "    </tr>\n",
       "    <tr>\n",
       "      <th>1</th>\n",
       "      <td>Ипотека</td>\n",
       "      <td>В целом хорошо, работали по ипотеке.</td>\n",
       "      <td>в целое хорошо работать по ипотека брать ипоте...</td>\n",
       "    </tr>\n",
       "    <tr>\n",
       "      <th>2</th>\n",
       "      <td>Реструктуризация</td>\n",
       "      <td>Нас всегда выручает банк Уралсиб!</td>\n",
       "      <td>мы всегда выручать банк уралсиб знакомство с б...</td>\n",
       "    </tr>\n",
       "    <tr>\n",
       "      <th>3</th>\n",
       "      <td>Вклад</td>\n",
       "      <td>Абсолютно неприемлемая ситуация и ее решение</td>\n",
       "      <td>абсолютно неприемлемый ситуация и она решение ...</td>\n",
       "    </tr>\n",
       "    <tr>\n",
       "      <th>4</th>\n",
       "      <td>Кредит</td>\n",
       "      <td>Внёс не туда</td>\n",
       "      <td>внести не туда прийти оплачивать кредит и ошиб...</td>\n",
       "    </tr>\n",
       "  </tbody>\n",
       "</table>\n",
       "</div>"
      ],
      "text/plain": [
       "               type                                         title  \\\n",
       "0            Кредит                Просьба об отмене штрафа КАСКО   \n",
       "1           Ипотека          В целом хорошо, работали по ипотеке.   \n",
       "2  Реструктуризация             Нас всегда выручает банк Уралсиб!   \n",
       "3             Вклад  Абсолютно неприемлемая ситуация и ее решение   \n",
       "4            Кредит                                  Внёс не туда   \n",
       "\n",
       "                                                text  \n",
       "0  просьба о отмена штраф каско здравствовать год...  \n",
       "1  в целое хорошо работать по ипотека брать ипоте...  \n",
       "2  мы всегда выручать банк уралсиб знакомство с б...  \n",
       "3  абсолютно неприемлемый ситуация и она решение ...  \n",
       "4  внести не туда прийти оплачивать кредит и ошиб...  "
      ]
     },
     "execution_count": 31,
     "metadata": {},
     "output_type": "execute_result"
    }
   ],
   "source": [
    "train_title_text.head()"
   ]
  },
  {
   "cell_type": "code",
   "execution_count": 10,
   "metadata": {},
   "outputs": [
    {
     "data": {
      "text/plain": [
       "(2750, 2)"
      ]
     },
     "execution_count": 10,
     "metadata": {},
     "output_type": "execute_result"
    }
   ],
   "source": [
    "test_title_text.shape"
   ]
  },
  {
   "cell_type": "code",
   "execution_count": 32,
   "metadata": {},
   "outputs": [
    {
     "data": {
      "text/plain": [
       "'The best support ever!!!'"
      ]
     },
     "execution_count": 32,
     "metadata": {},
     "output_type": "execute_result"
    }
   ],
   "source": [
    "test_title_text['title'][111]"
   ]
  },
  {
   "cell_type": "code",
   "execution_count": 11,
   "metadata": {},
   "outputs": [],
   "source": [
    "tf_idf = TfidfVectorizer(ngram_range=(1, 4), \n",
    "                         # stop_words=stopwords.words('russian'), \n",
    "                         #tokenizer=None,\n",
    "                         #preprocessor=None,\n",
    "                         analyzer='word',\n",
    "                         max_df=0.8, \n",
    "                         min_df=10,\n",
    "                         #max_features=10000\n",
    "                        )\n",
    "tf_idf_title = TfidfVectorizer(ngram_range=(1, 2), \n",
    "                         # stop_words=stopwords.words('russian'),\n",
    "                         #tokenizer=None,\n",
    "                         #preprocessor=None,\n",
    "                         analyzer='word',\n",
    "                         max_df=0.8, \n",
    "                         min_df=0.002,\n",
    "                         #max_features=10000\n",
    "                        )"
   ]
  },
  {
   "cell_type": "code",
   "execution_count": 12,
   "metadata": {},
   "outputs": [],
   "source": [
    "tf_idf_model = tf_idf.fit(np.concatenate([train_title_text['text'], test_title_text['text']]))"
   ]
  },
  {
   "cell_type": "code",
   "execution_count": 13,
   "metadata": {},
   "outputs": [],
   "source": [
    "train_tf_idf_vec = tf_idf_model.transform(train_title_text['text'])\n",
    "test_tf_idf_vec = tf_idf_model.transform(test_title_text['text'])"
   ]
  },
  {
   "cell_type": "code",
   "execution_count": 14,
   "metadata": {},
   "outputs": [
    {
     "data": {
      "image/png": "[encoded data removed]",
      "text/plain": [
       "<Figure size 432x288 with 1 Axes>"
      ]
     },
     "metadata": {
      "needs_background": "light"
     },
     "output_type": "display_data"
    }
   ],
   "source": [
    "wordcloud = WordCloud().generate_from_frequencies(tf_idf_model.vocabulary_)\n",
    "\n",
    "# Display the generated image:\n",
    "plt.figure() \n",
    "plt.imshow(wordcloud, interpolation=\"bilinear\") \n",
    "plt.axis(\"off\") \n",
    "plt.margins(x=0, y=0) \n",
    "plt.tight_layout()\n",
    "plt.show()"
   ]
  },
  {
   "cell_type": "code",
   "execution_count": 15,
   "metadata": {},
   "outputs": [],
   "source": [
    "lm = LogisticRegression(#solver='newton-cg', \n",
    "                        #n_jobs=-1,\n",
    "                        #solver='lbfgs',\n",
    "                        penalty='l2',\n",
    "                        #tol=0.000000001,\n",
    "                        random_state=42,\n",
    "                        C=10, \n",
    "                        max_iter=100000)"
   ]
  },
  {
   "cell_type": "code",
   "execution_count": 37,
   "metadata": {},
   "outputs": [],
   "source": [
    "lm_params = {# 'penalty':['l1', 'l2'],\n",
    "             'penalty':['l2'],\n",
    "             'C':[ 1, 2, 5],\n",
    "             'solver':['newton-cg', 'lbfgs',  'sag'],\n",
    "            #'solver':['liblinear', 'saga'],\n",
    "             'tol' : [0.1, 0.01, 0.001, 0.0001]\n",
    "    \n",
    "    \n",
    "}\n",
    "lm_search = GridSearchCV(estimator=lm, \n",
    "                         param_grid=lm_params, \n",
    "                         scoring ='accuracy', \n",
    "                         cv=StratifiedKFold(10), \n",
    "                         n_jobs=-1,\n",
    "                         verbose=1)"
   ]
  },
  {
   "cell_type": "code",
   "execution_count": 38,
   "metadata": {},
   "outputs": [
    {
     "name": "stdout",
     "output_type": "stream",
     "text": [
      "Fitting 10 folds for each of 36 candidates, totalling 360 fits\n"
     ]
    },
    {
     "name": "stderr",
     "output_type": "stream",
     "text": [
      "[Parallel(n_jobs=-1)]: Using backend LokyBackend with 8 concurrent workers.\n",
      "[Parallel(n_jobs=-1)]: Done  34 tasks      | elapsed:   48.9s\n",
      "[Parallel(n_jobs=-1)]: Done 184 tasks      | elapsed:  3.3min\n",
      "[Parallel(n_jobs=-1)]: Done 360 out of 360 | elapsed:  6.7min finished\n",
      "C:\\Users\\Ravin\\Anaconda2\\envs\\coursera_ds\\lib\\site-packages\\sklearn\\linear_model\\logistic.py:460: FutureWarning: Default multi_class will be changed to 'auto' in 0.22. Specify the multi_class option to silence this warning.\n",
      "  \"this warning.\", FutureWarning)\n"
     ]
    }
   ],
   "source": [
    "lm_search_fitted = lm_search.fit(X=train_tf_idf_vec, y=pd.factorize(train.type)[0])"
   ]
  },
  {
   "cell_type": "code",
   "execution_count": 19,
   "metadata": {},
   "outputs": [
    {
     "data": {
      "text/plain": [
       "LogisticRegression(C=2, class_weight=None, dual=False, fit_intercept=True,\n",
       "          intercept_scaling=1, max_iter=100000, multi_class='warn',\n",
       "          n_jobs=None, penalty='l1', random_state=42, solver='warn',\n",
       "          tol=0.001, verbose=0, warm_start=False)"
      ]
     },
     "execution_count": 19,
     "metadata": {},
     "output_type": "execute_result"
    }
   ],
   "source": [
    "lm_search_fitted.best_estimator_"
   ]
  },
  {
   "cell_type": "code",
   "execution_count": 20,
   "metadata": {},
   "outputs": [
    {
     "data": {
      "text/plain": [
       "0.7119427664390046"
      ]
     },
     "metadata": {},
     "output_type": "display_data"
    }
   ],
   "source": [
    "pred_scores = cross_val_score(estimator=lm_search_fitted.best_estimator_, X=train_tf_idf_vec, y=pd.factorize(train_title_text.type)[0],\n",
    "                scoring='accuracy',  \n",
    "                cv=10, #stratified by default\n",
    "                n_jobs=-1)\n",
    "display(np.mean(pred_scores))"
   ]
  },
  {
   "cell_type": "code",
   "execution_count": 21,
   "metadata": {},
   "outputs": [],
   "source": [
    "predicts = lm_search_fitted.best_estimator_.predict(test_tf_idf_vec)\n",
    "predicts_names = pd.factorize(train.type)[1][predicts]"
   ]
  },
  {
   "cell_type": "code",
   "execution_count": 22,
   "metadata": {},
   "outputs": [
    {
     "data": {
      "text/plain": [
       "Кредит                         0.542182\n",
       "Вклад                          0.122182\n",
       "Ипотека                        0.097818\n",
       "Бизнес услуги                  0.080364\n",
       "Обслуживание физ. и юр. лиц    0.061455\n",
       "Дебетовая карта                0.046909\n",
       "Реструктуризация               0.037091\n",
       "Денежные переводы              0.010909\n",
       "Инвестиционные продукты        0.001091\n",
       "dtype: float64"
      ]
     },
     "metadata": {},
     "output_type": "display_data"
    },
    {
     "data": {
      "text/plain": [
       "<matplotlib.axes._subplots.AxesSubplot at 0x1d0a2661080>"
      ]
     },
     "execution_count": 22,
     "metadata": {},
     "output_type": "execute_result"
    },
    {
     "data": {
      "image/png": "[encoded data removed]",
      "text/plain": [
       "<Figure size 432x288 with 1 Axes>"
      ]
     },
     "metadata": {
      "needs_background": "light"
     },
     "output_type": "display_data"
    }
   ],
   "source": [
    "display(predicts_names.value_counts()/predicts_names.shape)\n",
    "predicts_names.value_counts().plot.bar()"
   ]
  },
  {
   "cell_type": "code",
   "execution_count": 23,
   "metadata": {},
   "outputs": [],
   "source": [
    "sub = pd.DataFrame({'index': range(0, len(predicts)),\n",
    "                    'type': predicts_names})\n",
    "sub.to_csv('class_answer.csv', index=False)"
   ]
  },
  {
   "cell_type": "code",
   "execution_count": 26,
   "metadata": {},
   "outputs": [
    {
     "data": {
      "text/html": [
       "<div>\n",
       "<style scoped>\n",
       "    .dataframe tbody tr th:only-of-type {\n",
       "        vertical-align: middle;\n",
       "    }\n",
       "\n",
       "    .dataframe tbody tr th {\n",
       "        vertical-align: top;\n",
       "    }\n",
       "\n",
       "    .dataframe thead th {\n",
       "        text-align: right;\n",
       "    }\n",
       "</style>\n",
       "<table border=\"1\" class=\"dataframe\">\n",
       "  <thead>\n",
       "    <tr style=\"text-align: right;\">\n",
       "      <th></th>\n",
       "      <th>index</th>\n",
       "      <th>type</th>\n",
       "    </tr>\n",
       "  </thead>\n",
       "  <tbody>\n",
       "    <tr>\n",
       "      <th>0</th>\n",
       "      <td>0</td>\n",
       "      <td>Ипотека</td>\n",
       "    </tr>\n",
       "    <tr>\n",
       "      <th>1</th>\n",
       "      <td>1</td>\n",
       "      <td>Кредит</td>\n",
       "    </tr>\n",
       "    <tr>\n",
       "      <th>2</th>\n",
       "      <td>2</td>\n",
       "      <td>Кредит</td>\n",
       "    </tr>\n",
       "    <tr>\n",
       "      <th>3</th>\n",
       "      <td>3</td>\n",
       "      <td>Бизнес услуги</td>\n",
       "    </tr>\n",
       "    <tr>\n",
       "      <th>4</th>\n",
       "      <td>4</td>\n",
       "      <td>Кредит</td>\n",
       "    </tr>\n",
       "  </tbody>\n",
       "</table>\n",
       "</div>"
      ],
      "text/plain": [
       "   index           type\n",
       "0      0        Ипотека\n",
       "1      1         Кредит\n",
       "2      2         Кредит\n",
       "3      3  Бизнес услуги\n",
       "4      4         Кредит"
      ]
     },
     "execution_count": 26,
     "metadata": {},
     "output_type": "execute_result"
    }
   ],
   "source": [
    "sub.head()"
   ]
  },
  {
   "cell_type": "code",
   "execution_count": null,
   "metadata": {},
   "outputs": [],
   "source": []
  }
 ],
 "metadata": {
  "kernelspec": {
   "display_name": "Python 3",
   "language": "python",
   "name": "python3"
  },
  "language_info": {
   "codemirror_mode": {
    "name": "ipython",
    "version": 3
   },
   "file_extension": ".py",
   "mimetype": "text/x-python",
   "name": "python",
   "nbconvert_exporter": "python",
   "pygments_lexer": "ipython3",
   "version": "3.6.8"
  }
 },
 "nbformat": 4,
 "nbformat_minor": 2
}
